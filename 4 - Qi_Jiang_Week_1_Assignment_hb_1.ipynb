{
 "cells": [
  {
   "cell_type": "markdown",
   "metadata": {},
   "source": [
    "# Week 1 Assignment\n",
    "* Download the \"Week_1_Assignment.ipynb\" notebook \n",
    "* Fill in the code in the cells marked with `# YOUR ANSWER HERE:` by answering the question/task defined in the cell above it starting with `GRADED:`\n",
    "* Code cells outside of `# YOUR ANSWER HERE:` will not be considered for grading. \n",
    "  * Feel free to write outside of it for debugging\n",
    "* Submit the updated notebook\n",
    "  * Make sure to save your changes before submitting it!"
   ]
  },
  {
   "cell_type": "code",
   "execution_count": 1,
   "metadata": {},
   "outputs": [],
   "source": [
    "#Import necessary libraries\n",
    "import pandas as pd\n",
    "import numpy as np"
   ]
  },
  {
   "cell_type": "markdown",
   "metadata": {},
   "source": [
    "`GRADED [1]`: Provided below are functions that are:\n",
    "- completely defined: `add_numbers`;\n",
    "- partially defined: `sub_numbers`; _and_\n",
    "- not defined at all: `mult_numbers`\n",
    "\n",
    " 1. Complete `sub_numbers` so that it return difference of two numbers\n",
    " 2. Write a function called `mult_numbers` to multiply two numbers"
   ]
  },
  {
   "cell_type": "code",
   "execution_count": 2,
   "metadata": {},
   "outputs": [
    {
     "name": "stdout",
     "output_type": "stream",
     "text": [
      "9\n",
      "1\n",
      "9\n"
     ]
    }
   ],
   "source": [
    "# YOUR ANSWER HERE:\n",
    "\n",
    "def add_numbers(a, b):\n",
    "    \"\"\" return the total of a and b: that is a + b\"\"\"\n",
    "    result = a + b\n",
    "    return result\n",
    "\n",
    "def sub_numbers(a, b):\n",
    "    # Write code to return the difference of a and b: that is, a - b\n",
    "    \"\"\" return the the difference of a and b: that is, a - b\"\"\"\n",
    "    result = a - b\n",
    "    return result\n",
    "\n",
    "def mult_numbers(a, b):\n",
    "    \"\"\"return the multi result of a and b: that is, a * b\"\"\"\n",
    "    result = a * b\n",
    "    return result\n",
    "\n",
    "# Uncomment the following when you have done the exercise\n",
    "# a^2-b^2 = (a+b)*(a-b)\n",
    "# e.g 5^2 - 4^2 = (5+4)(5-4) = 9\n",
    "print(add_numbers(5,4))\n",
    "print(sub_numbers(5,4))\n",
    "print(mult_numbers(add_numbers(5,4), sub_numbers(5,4)))\n",
    "# Should print 9"
   ]
  },
  {
   "cell_type": "markdown",
   "metadata": {},
   "source": [
    "`GRADED [2]`: Write a function called `show_info` that takes a name, a home city, and a home state (a total of 3 arguments) and returns a full sentence string with the following content and format: `Your name is [name] and you live in [city], [state].` Please make sure that you follow the format of the sentence exactly as defined and that you properly capitalize and format the two letter abbreviation of the home state.\n",
    "_Hint: Your string shold follow the Python formatting functionality. https://pyformat.info/_"
   ]
  },
  {
   "cell_type": "code",
   "execution_count": 3,
   "metadata": {},
   "outputs": [],
   "source": [
    "# YOUR ANSER HERE\n",
    "def show_info (name, city, state):\n",
    "    \"\"\" return the person's name, city, and state\"\"\"\n",
    "    return print (\"Your name is {} and you live in {}, {}.\". format(name, city, state))"
   ]
  },
  {
   "cell_type": "code",
   "execution_count": 4,
   "metadata": {},
   "outputs": [
    {
     "name": "stdout",
     "output_type": "stream",
     "text": [
      "Your name is Jane Austen and you live in Gloucester, MA.\n"
     ]
    }
   ],
   "source": [
    "show_info('Jane Austen', 'Gloucester', 'MA')  # please do not modify this cell"
   ]
  },
  {
   "cell_type": "markdown",
   "metadata": {},
   "source": [
    "`GRADED [3]`: Using a `for` loop, iterate through the sequential list of all integers from `1` to `365` and print each integer in that range that is divisible by `9` and less than `128`."
   ]
  },
  {
   "cell_type": "code",
   "execution_count": 5,
   "metadata": {},
   "outputs": [
    {
     "name": "stdout",
     "output_type": "stream",
     "text": [
      "9\n",
      "18\n",
      "27\n",
      "36\n",
      "45\n",
      "54\n",
      "63\n",
      "72\n",
      "81\n",
      "90\n",
      "99\n",
      "108\n",
      "117\n",
      "126\n"
     ]
    }
   ],
   "source": [
    "# YOUR ANSER HERE:\n",
    "for i in range(1,366):\n",
    "    if i % 9 == 0 and i <= 128:\n",
    "        print (i)\n",
    "    "
   ]
  },
  {
   "cell_type": "markdown",
   "metadata": {},
   "source": [
    "`GRADED [4]`: Using a `while` loop: loop over every sequential odd number between 0 and 1900; in the same `while` loop print `only` every 10th sequential odd number you have encountered in the loop."
   ]
  },
  {
   "cell_type": "code",
   "execution_count": 6,
   "metadata": {},
   "outputs": [
    {
     "name": "stdout",
     "output_type": "stream",
     "text": [
      "19\n",
      "39\n",
      "59\n",
      "79\n",
      "99\n",
      "119\n",
      "139\n",
      "159\n",
      "179\n",
      "199\n",
      "219\n",
      "239\n",
      "259\n",
      "279\n",
      "299\n",
      "319\n",
      "339\n",
      "359\n",
      "379\n",
      "399\n",
      "419\n",
      "439\n",
      "459\n",
      "479\n",
      "499\n",
      "519\n",
      "539\n",
      "559\n",
      "579\n",
      "599\n",
      "619\n",
      "639\n",
      "659\n",
      "679\n",
      "699\n",
      "719\n",
      "739\n",
      "759\n",
      "779\n",
      "799\n",
      "819\n",
      "839\n",
      "859\n",
      "879\n",
      "899\n",
      "919\n",
      "939\n",
      "959\n",
      "979\n",
      "999\n",
      "1019\n",
      "1039\n",
      "1059\n",
      "1079\n",
      "1099\n",
      "1119\n",
      "1139\n",
      "1159\n",
      "1179\n",
      "1199\n",
      "1219\n",
      "1239\n",
      "1259\n",
      "1279\n",
      "1299\n",
      "1319\n",
      "1339\n",
      "1359\n",
      "1379\n",
      "1399\n",
      "1419\n",
      "1439\n",
      "1459\n",
      "1479\n",
      "1499\n",
      "1519\n",
      "1539\n",
      "1559\n",
      "1579\n",
      "1599\n",
      "1619\n",
      "1639\n",
      "1659\n",
      "1679\n",
      "1699\n",
      "1719\n",
      "1739\n",
      "1759\n",
      "1779\n",
      "1799\n",
      "1819\n",
      "1839\n",
      "1859\n",
      "1879\n",
      "1899\n"
     ]
    }
   ],
   "source": [
    "# YOUR ANSWER HERE:\n",
    "i=1\n",
    "j=1\n",
    "while i < 1901:\n",
    "    if (j %10 == 0):\n",
    "        print(i)\n",
    "    i += 2\n",
    "    j += 1"
   ]
  },
  {
   "cell_type": "markdown",
   "metadata": {},
   "source": [
    "`GRADED [5]`: Using a `for` loop, iterate over the dictionary defined below and, for each, key-value pair in the dictionary, print a single string of the form; `The CEO of [company] is [CEO name].` where `[company]` and `[CEO name]` are the corresponding values."
   ]
  },
  {
   "cell_type": "code",
   "execution_count": 7,
   "metadata": {},
   "outputs": [
    {
     "name": "stdout",
     "output_type": "stream",
     "text": [
      "The CEO of Microsoft is Satya Nadella.\n",
      "The CEO of Amazon is Jeff Bezos.\n",
      "The CEO of Apple is Tim Cook.\n"
     ]
    }
   ],
   "source": [
    "# YOUR ANSWER HERE:\n",
    "company_dict = {\n",
    "    'Satya Nadella': 'Microsoft',\n",
    "    'Jeff Bezos': 'Amazon',\n",
    "    'Tim Cook': 'Apple'\n",
    "}\n",
    "\n",
    "for ceo, company in company_dict.items():\n",
    "    print(\"The CEO of {} is {}.\".format(company, ceo))"
   ]
  },
  {
   "cell_type": "markdown",
   "metadata": {},
   "source": [
    "`GRADED [6]`: Define a function called `length_converter` that takes as an argument a distance in `inches` and prints the distance converted to `centimeters` using the following sentence: `Original distance in inches is [..], which equals [..] centimeters.`"
   ]
  },
  {
   "cell_type": "code",
   "execution_count": 8,
   "metadata": {},
   "outputs": [],
   "source": [
    "# YOUR ANSWER HERE:\n",
    "def length_converter(inches):\n",
    "    \"\"\" Convert inches to centimeters\n",
    "        Input: 1 inches\n",
    "        Output: 2.54 centimeters\n",
    "    \"\"\"\n",
    "    centimeters = inches * 2.54\n",
    "    #return centimeters\n",
    "    print(\"Original distance in inches is {}, which equals {} centimeters\".format (inches, centimeters) )"
   ]
  },
  {
   "cell_type": "code",
   "execution_count": 9,
   "metadata": {},
   "outputs": [
    {
     "name": "stdout",
     "output_type": "stream",
     "text": [
      "Original distance in inches is 3, which equals 7.62 centimeters\n"
     ]
    }
   ],
   "source": [
    "# Length converter function test\n",
    "length_converter(3)"
   ]
  },
  {
   "cell_type": "markdown",
   "metadata": {},
   "source": [
    "`GRADED [7]`: Define a function called `count_elements` that takes a list and returns how many times each item is repeated in the list\n"
   ]
  },
  {
   "cell_type": "code",
   "execution_count": 10,
   "metadata": {},
   "outputs": [],
   "source": [
    "# YOUR ANSWER HERE:\n",
    "# hint:  use a dictionary!\n",
    "def count_elements (list):\n",
    "    \"\"\" count elements in a list and return how many each item is repeated in the list\"\"\"\n",
    "    result = {}\n",
    "    for element in list:\n",
    "        if element not in result:\n",
    "            result[element] = 0\n",
    "        result[element] += 1\n",
    "    return result"
   ]
  },
  {
   "cell_type": "code",
   "execution_count": 11,
   "metadata": {},
   "outputs": [
    {
     "data": {
      "text/plain": [
       "{1: 1, 38: 1, 9: 1, 0: 2, 73: 1, 62: 1}"
      ]
     },
     "execution_count": 11,
     "metadata": {},
     "output_type": "execute_result"
    }
   ],
   "source": [
    "# count elements function test\n",
    "count_elements([1,38,9,0,0,73,62])"
   ]
  }
 ],
 "metadata": {
  "kernelspec": {
   "display_name": "Python 3",
   "language": "python",
   "name": "python3"
  },
  "language_info": {
   "codemirror_mode": {
    "name": "ipython",
    "version": 3
   },
   "file_extension": ".py",
   "mimetype": "text/x-python",
   "name": "python",
   "nbconvert_exporter": "python",
   "pygments_lexer": "ipython3",
   "version": "3.7.4"
  }
 },
 "nbformat": 4,
 "nbformat_minor": 4
}
